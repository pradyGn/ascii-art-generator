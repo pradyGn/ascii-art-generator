{
 "cells": [
  {
   "cell_type": "code",
   "execution_count": 4,
   "metadata": {},
   "outputs": [],
   "source": [
    "import os\n",
    "import sys\n",
    "import time\n",
    "import numpy as np\n",
    "from PIL import Image\n",
    "import cv2"
   ]
  },
  {
   "cell_type": "code",
   "execution_count": 148,
   "metadata": {},
   "outputs": [],
   "source": [
    "# ASCII characters used to represent the grayscale intensity\n",
    "ASCII_CHARS_REV = \"@.. \"\n",
    "ASCII_CHARS = \"\"\n",
    "for char in reversed(ASCII_CHARS_REV):\n",
    "    ASCII_CHARS += char\n",
    "\n",
    "def image_to_ascii(image, width:int=80):\n",
    "    \"\"\"\n",
    "    Convert an image to ASCII characters.\n",
    "\n",
    "    Params:\n",
    "        image (ImageFile): PIL Image object\n",
    "        width (int): Desired output width\n",
    "\n",
    "    Returns:\n",
    "        (str): ASCII art as string\n",
    "    \"\"\"\n",
    "    # Calculate aspect ratio and set new height\n",
    "    aspect_ratio = image.height / image.width\n",
    "    new_height = int(aspect_ratio * width * 0.5)  # Adjusting for font aspect ratio\n",
    "\n",
    "    # Resize the image\n",
    "    image = image.resize((width, new_height))\n",
    "    \n",
    "    # Convert to grayscale\n",
    "    gray_image = image.convert(\"L\")\n",
    "    # display(gray_image)\n",
    "\n",
    "    # Convert pixels to ASCII\n",
    "    pixels = np.array(gray_image)\n",
    "    max_pixel = max([max(row) for row in pixels])\n",
    "    min_pixel = min([min(row) for row in pixels])\n",
    "    sep = int((max_pixel - min_pixel)/len(ASCII_CHARS))\n",
    "    # print(sep)\n",
    "\n",
    "    ascii_str = \"\"\n",
    "    for row in pixels:\n",
    "        ascii_str += \"\".join(ASCII_CHARS[min(pixel // sep, pixel // 65)] for pixel in row) + \"\\n\"\n",
    "\n",
    "    return ascii_str"
   ]
  },
  {
   "cell_type": "code",
   "execution_count": 149,
   "metadata": {},
   "outputs": [],
   "source": [
    "gif_path = \"../data/thick_hello_world.png\"\n",
    "image = Image.open(gif_path)"
   ]
  },
  {
   "cell_type": "code",
   "execution_count": null,
   "metadata": {},
   "outputs": [],
   "source": [
    "print(\n",
    "    image_to_ascii(\n",
    "        image = image\n",
    "    )\n",
    ")"
   ]
  },
  {
   "cell_type": "code",
   "execution_count": null,
   "metadata": {},
   "outputs": [],
   "source": []
  }
 ],
 "metadata": {
  "kernelspec": {
   "display_name": "venv",
   "language": "python",
   "name": "python3"
  },
  "language_info": {
   "codemirror_mode": {
    "name": "ipython",
    "version": 3
   },
   "file_extension": ".py",
   "mimetype": "text/x-python",
   "name": "python",
   "nbconvert_exporter": "python",
   "pygments_lexer": "ipython3",
   "version": "3.13.1"
  }
 },
 "nbformat": 4,
 "nbformat_minor": 2
}
